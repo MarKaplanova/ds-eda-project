{
 "cells": [
  {
   "cell_type": "markdown",
   "metadata": {},
   "source": [
    "# Introduction"
   ]
  },
  {
   "cell_type": "markdown",
   "metadata": {},
   "source": [
    "## Notebook preparation"
   ]
  },
  {
   "cell_type": "code",
   "execution_count": null,
   "metadata": {},
   "outputs": [],
   "source": [
    "import warnings\n",
    "\n",
    "warnings.filterwarnings(\"ignore\")\n",
    "\n",
    "import pandas as pd\n",
    "import numpy as np\n",
    "import matplotlib.pyplot as plt\n",
    "import seaborn as sns\n",
    "import missingno as msno\n",
    "from urllib.request import urlopen\n",
    "import json\n",
    "import plotly.express as px\n",
    "import plotly.io as pio\n",
    "import kaleido\n",
    "\n",
    "\n",
    "from matplotlib.ticker import PercentFormatter\n",
    "plt.rcParams.update({ \"figure.figsize\" : (8, 5),\"axes.facecolor\" : \"white\", \"axes.edgecolor\":  \"black\"})\n",
    "plt.rcParams[\"figure.facecolor\"]= \"w\"\n",
    "pd.plotting.register_matplotlib_converters()\n",
    "pd.set_option('display.float_format', lambda x: '%.3f' % x)\n",
    "\n",
    "# set palette\n",
    "# custom_palette = ['#1f78b', '#33a02c', '#e31a1c', '#ff7f00', '#6a3d9a']\n",
    "\n",
    "sns.set_palette(\"flare\")\n",
    "colors = sns.color_palette(\"flare\")\n",
    "colors_cont = sns.color_palette(\"flare\", as_cmap=True)\n",
    "\n",
    "plt.rcParams['axes.prop_cycle'] = plt.cycler(color=colors)\n"
   ]
  },
  {
   "cell_type": "markdown",
   "metadata": {},
   "source": [
    "## Task\n",
    "1. Through EDA/statistical analysis above please come up with **AT LEAST 3 insights regarding the overall data**. One should be geographical.\n",
    "1. In addition also come up with **AT LEAST 3 recommendations** for your client. "
   ]
  },
  {
   "cell_type": "markdown",
   "metadata": {},
   "source": [
    "### Client\n",
    "- name: William Rodriguez\t\n",
    "- type: Buyer\t\n",
    "- household: 2 people, \n",
    "- needs: \n",
    "    - country house (best timing & non-renovated)\n",
    "    - city house (fast & central location)\n",
    "\n",
    "### Overall questions and insights\n",
    "- average sizes, numbers of rooms etc\n",
    "- average price, cyclicality of prices\n",
    "- correlation: size and no rooms\n",
    "- (geo)\n",
    "\n",
    "### Client specific questions and insights\n",
    "- country house: \n",
    "    - cyclicality of prices for the specific subgroup\n",
    "    - non-renovated: price vs renovated for same number of rooms\n",
    "    - price by lot size vs price by house size vs price by room number\n",
    "\n",
    "- city house: location analysis based on zipcode\n",
    "    - correlation size vs price \n",
    "    - correlation size vs room size "
   ]
  },
  {
   "cell_type": "markdown",
   "metadata": {},
   "source": [
    "# Data load and clean"
   ]
  },
  {
   "cell_type": "code",
   "execution_count": null,
   "metadata": {},
   "outputs": [],
   "source": [
    "# import data\n",
    "df = pd.read_csv('data/eda.csv')\n",
    "\n",
    "# df.head()\n",
    "# df.columns"
   ]
  },
  {
   "cell_type": "markdown",
   "metadata": {},
   "source": [
    "## Initial data inspection\n",
    "- **shape**: 21,597 observations of 22 variables\n",
    "- **variable names**: all variable names are Pythonic\n",
    "- **variable types**: all variable types are appropriate apart from date: it is an `object`, when it should be `datetype64`\n",
    "- **variable encoding**: fix year built by dividing by 10\n",
    "\n",
    "We have invormation about: \n",
    "- price,\n",
    "- location and size of plot,\n",
    "- number of floors,\n",
    "- number, size and type of rooms, \n",
    "- dates of construction, last renovation and condition. \n",
    "\n",
    "\n",
    "(Interesting find: for `int` type does not support missing values, so Python default chooses type `float`. If I try turning it into `int` I get the error `IntCastingNaNError`, which in Pythonic\n"
   ]
  },
  {
   "cell_type": "code",
   "execution_count": null,
   "metadata": {},
   "outputs": [],
   "source": [
    "## DATA SHAPE & VARNAMES\n",
    "\n",
    "print(df.shape)\n",
    "print(\"\\n\")\n",
    "print(df.columns)\n",
    "\n",
    "\n",
    "# notes: \n",
    "    # seems that variable names are okay (all \"Pythonic\")"
   ]
  },
  {
   "cell_type": "code",
   "execution_count": null,
   "metadata": {},
   "outputs": [],
   "source": [
    "## INSPECTION OF VARIABLE VALUES\n",
    "df.describe()\n",
    "\n",
    "# even categorical variables are in numeric form, yay! \n",
    "# Year renovated is a mess though. Fix in next cell."
   ]
  },
  {
   "cell_type": "code",
   "execution_count": null,
   "metadata": {},
   "outputs": [],
   "source": [
    "## FIX YEAR RENOVATED\n",
    "# year renovated has an extra 0 at the end. Divide by 10 to fix.\n",
    "df['yr_renovated'] = df.yr_renovated.apply(lambda x: x/10)\n",
    "df.loc[df.yr_renovated != 0].yr_renovated.describe()\n",
    "\n",
    "## FIX ZIPCODE\n",
    "df['zipcode'] = df.zipcode.astype('str')"
   ]
  },
  {
   "cell_type": "code",
   "execution_count": null,
   "metadata": {},
   "outputs": [],
   "source": [
    "## DATA TYPES\n",
    "\n",
    "# print(df.dtypes)\n",
    "\n",
    "df['date'] = pd.to_datetime(df['date'], format='%Y-%m-%d')\n",
    "# df.head()\n",
    "\n",
    "# problematic types\n",
    "    # date is an object --> turn into date using datetime()\n",
    "    # waterfront, view, yr_renovated --> turn into int\n",
    "\n",
    "# df = df.astype({'yr_renovated': int})\n",
    "# !!interesting find!!: int cannot be NA --> python automatically chose float for int value variables\n"
   ]
  },
  {
   "cell_type": "markdown",
   "metadata": {},
   "source": [
    "## Deal with missing values\n",
    "- sales information has no missing values, only some house characteristics are missing --> perform analysis of missing values on a set of unique houses only (21,420 houses)\n",
    "\n",
    "\n",
    "- missing values for 4 variables: \n",
    "    - `waterfront`: 2360 missings (11.02%)\n",
    "    - `view`: 63 missings (0.29%)\n",
    "    - `sqft_basement`: 451 missings (2.11%)\n",
    "    - `yr_renovated`: 3811 missings (17.79%)\n",
    "\n",
    "\n",
    "\n",
    "- the missing values are not correlated: there is no systematic relationship among missing values\n",
    "\n",
    "- I deal with missing values by imputing 0s. This means: \n",
    "    - `waterfront`: assume house is not on waterfront\n",
    "    - `view`: assume house is without a view\n",
    "    - `sqft_basement`: assume house has no basement\n",
    "    - `yr_renovated`: assume house was not renovated"
   ]
  },
  {
   "cell_type": "code",
   "execution_count": null,
   "metadata": {},
   "outputs": [],
   "source": [
    "## inspect missing values\n",
    "df.isna().sum() #\n",
    "houses = df.drop(['sale_id', 'date', 'price'], axis = 1).drop_duplicates()\n",
    "# houses.isna().sum()\n",
    "\n",
    "# print shares of missing values\n",
    "for key, value in dict(houses.isna().sum()).items(): \n",
    "    if value != 0:\n",
    "        print(f\"- `{key}`: {value} missings ({round(value/len(houses)*100, 2)}%)\")\n",
    "    # houses.waterfront.isna().sum()/len(houses)*100"
   ]
  },
  {
   "cell_type": "code",
   "execution_count": null,
   "metadata": {},
   "outputs": [],
   "source": [
    "## show heatmap for correlation among missing values\n",
    "#  msno.heatmap(houses)\n",
    "# very little correlation among missing variables: no systematic issues"
   ]
  },
  {
   "cell_type": "code",
   "execution_count": null,
   "metadata": {},
   "outputs": [],
   "source": [
    "## fill missing values with 0s\n",
    "df = df.fillna(0)\n",
    "\n",
    "# df.isna().sum() --> no missing values anymore, yay!"
   ]
  },
  {
   "cell_type": "markdown",
   "metadata": {},
   "source": [
    "## Add features"
   ]
  },
  {
   "cell_type": "markdown",
   "metadata": {},
   "source": [
    "### Additional data load\n",
    "- from https://simplemaps.com/data/us-zips retrieve demographic informaiton about zipcoded\n",
    "- the relevant information is: \n",
    "    - population density: to identify 'country' zipcodes\n",
    "    - city of zipcode: to identiy 'central' zipcodes"
   ]
  },
  {
   "cell_type": "markdown",
   "metadata": {},
   "source": [
    "#### US zips"
   ]
  },
  {
   "cell_type": "code",
   "execution_count": null,
   "metadata": {},
   "outputs": [],
   "source": [
    "# load US zips data\n",
    "king_zips = pd.read_csv('data/uszips.csv', dtype= str)\n",
    "king_zips.head()\n",
    "\n",
    "# keep only relevant data: King county and 3 variables of interest \n",
    "king_zips = pd.DataFrame(king_zips).loc[king_zips.county_fips == \"53033\", ['zip', 'density', 'city']]\n",
    "\n",
    "# clean density column\n",
    "king_zips['density'] = king_zips.density.astype('float')\n",
    "\n",
    "# rename zipcode to match format of the other dataset\n",
    "king_zips = king_zips.rename(columns = {'zip': 'zipcode'})\n",
    "king_zips.head()\n",
    "\n",
    "# king_zips.describe()\n",
    "# king_zips.shape"
   ]
  },
  {
   "cell_type": "code",
   "execution_count": null,
   "metadata": {},
   "outputs": [],
   "source": [
    "## merge King county demographic inforamtion\n",
    "\n",
    "# df = pd.merge(df, king_zips, how = 'left', on = 'zipcode')\n",
    "# df.head()"
   ]
  },
  {
   "cell_type": "markdown",
   "metadata": {},
   "source": [
    "#### GeoJSON for zip code coordinates"
   ]
  },
  {
   "cell_type": "code",
   "execution_count": null,
   "metadata": {},
   "outputs": [],
   "source": [
    "## load GeoJSON data for zipcodes\n",
    "\n",
    "with urlopen('https://raw.githubusercontent.com/OpenDataDE/State-zip-code-GeoJSON/master/wa_washington_zip_codes_geo.min.json') as response:\n",
    "    zipcodes = json.load(response)\n",
    "\n",
    "price_by_zipcode = df.groupby('zipcode').agg({'price': 'mean', 'price_sqft': 'mean'}).reset_index()\n",
    "# price_by_zipcode['zipcode'] = df.zipcode.astype('str')\n",
    "price_by_zipcode.head()"
   ]
  },
  {
   "cell_type": "markdown",
   "metadata": {},
   "source": [
    "### Add additional variables"
   ]
  },
  {
   "cell_type": "code",
   "execution_count": null,
   "metadata": {},
   "outputs": [],
   "source": [
    "# Create variables that idenitfy the zipcode type\n",
    "\n",
    "df['zip_country'] = df.density.apply(lambda x: 1 if x < 500 else 0)\n",
    "df['zip_city'] = df.city.apply(lambda x: 1 if x == 'Seattle' else 0)\n",
    "df['zip_type'] = df.apply(lambda x: 'city' if x.zip_city == 1 else ('country' if x.zip_country == 1 else 'suburbs'), axis = 1)\n",
    "\n",
    "df.head()"
   ]
  },
  {
   "cell_type": "code",
   "execution_count": null,
   "metadata": {},
   "outputs": [],
   "source": [
    "# Generate time variables\n",
    "\n",
    "df['month'] = df.date.dt.month\n",
    "df['year'] = df.date.dt.year\n",
    "df['year_month'] = df.date.dt.strftime('%Y-%m')"
   ]
  },
  {
   "cell_type": "code",
   "execution_count": null,
   "metadata": {},
   "outputs": [],
   "source": [
    "# Generate price per square foot\n",
    "df['price_sqft'] = df['price']/df['sqft_living']"
   ]
  },
  {
   "cell_type": "code",
   "execution_count": null,
   "metadata": {},
   "outputs": [],
   "source": [
    "# Generate land to house ratio\n",
    "df['land_to_house'] = df.sqft_lot / df.sqft_living"
   ]
  },
  {
   "cell_type": "code",
   "execution_count": null,
   "metadata": {},
   "outputs": [],
   "source": [
    "# Final peak at data before analysis\n",
    "df.head()"
   ]
  },
  {
   "cell_type": "markdown",
   "metadata": {},
   "source": [
    "# Analysis"
   ]
  },
  {
   "cell_type": "markdown",
   "metadata": {},
   "source": [
    "## General insights about the data"
   ]
  },
  {
   "cell_type": "markdown",
   "metadata": {},
   "source": [
    "### General insight 1: overview of dataset\n",
    "- There is a great variety of properties being sold and bought\n",
    "- Majority of the houses: \n",
    "    - cost below 500k\n",
    "    - are below 2000sqft (185sqm)\n",
    "    - have a lot size of < 7500 sqft (700sqm)\n",
    "    - have 3 or fewer bedrooms"
   ]
  },
  {
   "cell_type": "code",
   "execution_count": null,
   "metadata": {},
   "outputs": [],
   "source": [
    "# histograms of variables of interest\n",
    "cols = ['price', 'grade', 'condition', 'sqft_living', 'bedrooms', 'bathrooms']\n",
    "titles = ['Price', 'Grade', 'Condition', 'Square footage', 'Number of bedrooms', 'Number of bathrooms']\n",
    "\n",
    "\n",
    "fig, axes = plt.subplots(nrows=2, ncols=3, figsize=(12, 8))\n",
    "axes = axes.flatten()\n",
    "\n",
    "# Plot normalized histograms for each variable\n",
    "for i, var in list(zip(range(len(cols)+1), cols)) :\n",
    "    \n",
    "    # plot histogram\n",
    "    axes[i].hist(df[var], bins=30, alpha=0.7)\n",
    "\n",
    "    # label plot and axes\n",
    "    axes[i].set_title(f'{titles[i]}')\n",
    "    axes[i].set_xlabel('')\n",
    "    axes[i].set_ylabel('Probability Density')\n",
    "\n",
    "    # add mean and median\n",
    "    mean_value = np.mean(df[var])\n",
    "    median_value = np.median(df[var])\n",
    "    axes[i].axvline(mean_value, color='black', linestyle='solid', linewidth=1, label=f'Avg: {mean_value:.2f}')\n",
    "    axes[i].axvline(median_value, color='black', linestyle='dashed', linewidth=1, label=f'Med: {median_value:.2f}')\n",
    "\n",
    "    # add legend \n",
    "    axes[i].legend()\n",
    "\n",
    "# adjust layout\n",
    "plt.tight_layout()\n",
    "\n",
    "# save the figure\n",
    "plt.savefig('graphs/general_1_histograms.png')\n",
    "\n",
    "# display the plot\n",
    "plt.show()\n"
   ]
  },
  {
   "cell_type": "markdown",
   "metadata": {},
   "source": [
    "### General insight 2: price cyclicality "
   ]
  },
  {
   "cell_type": "code",
   "execution_count": null,
   "metadata": {},
   "outputs": [],
   "source": [
    "fig, axes = plt.subplots(nrows=1, ncols=2, figsize=(8, 4))\n",
    "\n",
    "axes = axes.flatten()\n",
    "\n",
    "# plot 1: plot histogram of price_sqft\n",
    "axes[0].hist(df['price_sqft'], bins=30, alpha=0.7, color = colors[1])\n",
    "axes[0].set_title(f'Price per sqft')\n",
    "axes[0].set_xlabel('Price (in $)')\n",
    "axes[0].set_ylabel('Probability Density')\n",
    "\n",
    "# calculate mean and median\n",
    "mean_value = np.mean(df['price_sqft'])\n",
    "median_value = np.median(df['price_sqft'])\n",
    "\n",
    "# add mean and median to plot\n",
    "axes[0].axvline(mean_value, color='black', linestyle='solid', linewidth=1, label=f'Avg: {mean_value:.2f}$')\n",
    "axes[0].axvline(median_value, color='black', linestyle='dashed', linewidth=1, label=f'Med: {median_value:.2f}$')\n",
    "axes[0].legend()\n",
    "\n",
    "#-----------------------\n",
    "\n",
    "# plot 2: plot price per square foot over time\n",
    "\n",
    "plt.plot(price_sqft_month.year_month, price_sqft_month.price_sqft, marker = 'o', color = colors[1])\n",
    "axes[1].set_title('Prise per sqft over time')\n",
    "axes[1].set_xlabel('')\n",
    "axes[1].set_ylabel('Price (in $)')\n",
    "plt.xticks(rotation = 90)\n",
    "\n",
    "# adjust layout\n",
    "plt.tight_layout()\n",
    "\n",
    "# save plot\n",
    "plt.savefig('graphs/general_2_price_sqft.png')\n",
    "\n",
    "# display the plot\n",
    "plt.show()"
   ]
  },
  {
   "cell_type": "markdown",
   "metadata": {},
   "source": [
    "### General insight 3: geographical analysis of price per sqft"
   ]
  },
  {
   "cell_type": "code",
   "execution_count": null,
   "metadata": {},
   "outputs": [],
   "source": [
    "# map: sqft price per zip code\n",
    "fig = px.choropleth_mapbox(price_by_zipcode, geojson=zipcodes, locations='zipcode', color='price_sqft',\n",
    "                           color_continuous_scale=[[0, colors.as_hex()[1]], [0.5, 'ivory'], [1, colors.as_hex()[-1]]],\n",
    "                           zoom=8.3, center = {\"lat\": 47.433422, \"lon\": -122.090672}, \n",
    "                           range_color=(price_by_zipcode.price_sqft.min(), price_by_zipcode.price_sqft.max()),\n",
    "                           mapbox_style=\"carto-positron\",\n",
    "                           featureidkey=\"properties.ZCTA5CE10\",\n",
    "                           opacity=0.5,\n",
    "                           labels={'price':'average house price'}\n",
    "                          )\n",
    "fig.update_layout(margin={\"r\":0,\"t\":0,\"l\":0,\"b\":0})\n",
    "fig.show()\n",
    "\n",
    "pio.write_image(fig, 'graphs/general_3_price_zipcode.png', width=800, height=800)"
   ]
  },
  {
   "cell_type": "markdown",
   "metadata": {},
   "source": [
    "## Specific insights for client nedds"
   ]
  },
  {
   "cell_type": "markdown",
   "metadata": {},
   "source": [
    "### Specific insight 1: defining city and country houses"
   ]
  },
  {
   "cell_type": "code",
   "execution_count": null,
   "metadata": {},
   "outputs": [],
   "source": [
    "# Generate dataset: land to house ratio by zipcode\n",
    "\n",
    "size_by_zipcode = df.groupby('zipcode').agg({'land_to_house': 'mean'}).reset_index()\n",
    "# size_by_zipcode.head()"
   ]
  },
  {
   "cell_type": "code",
   "execution_count": null,
   "metadata": {},
   "outputs": [],
   "source": [
    "# Map: land-to-house ratio by zipcode\n",
    "\n",
    "fig = px.choropleth_mapbox(size_by_zipcode, geojson=zipcodes, locations='zipcode', color='land_to_house',\n",
    "                           color_continuous_scale=[[0, colors.as_hex()[1]], [0.5, 'ivory'], [1, colors.as_hex()[-1]]],\n",
    "                           zoom=8.3, center = {\"lat\": 47.433422, \"lon\": -122.090672}, \n",
    "                           range_color=(np.percentile(size_by_zipcode.land_to_house, 20), np.percentile(size_by_zipcode.land_to_house, 80)),\n",
    "                           mapbox_style=\"carto-positron\",\n",
    "                           featureidkey=\"properties.ZCTA5CE10\",\n",
    "                           opacity=0.5,\n",
    "                           labels={'land_to_house':'land-to-house ratio'}\n",
    "                          )\n",
    "fig.update_layout(margin={\"r\":0,\"t\":0,\"l\":0,\"b\":0})\n",
    "fig.show()\n",
    "\n",
    "pio.write_image(fig, 'graphs/specific_1_land_to_house.png', width=800, height=800)"
   ]
  },
  {
   "cell_type": "code",
   "execution_count": null,
   "metadata": {},
   "outputs": [],
   "source": [
    "# Map: density by zipcode\n",
    "fig = px.choropleth_mapbox(king_zips, geojson=zipcodes, locations='zipcode', color='density',\n",
    "                           color_continuous_scale=[[0, colors.as_hex()[1]], [0.5, 'ivory'], [1, colors.as_hex()[-1]]],\n",
    "                           zoom=8.3, center = {\"lat\": 47.433422, \"lon\": -122.090672}, \n",
    "                           range_color=(king_zips.density.min(),5000),\n",
    "                           mapbox_style=\"carto-positron\",\n",
    "                           featureidkey=\"properties.ZCTA5CE10\",\n",
    "                           opacity=0.5, \n",
    "                           labels={'density':'population density'}\n",
    "                          )\n",
    "fig.update_layout(margin={\"r\":0,\"t\":0,\"l\":0,\"b\":0})\n",
    "fig.show()\n",
    "\n",
    "pio.write_image(fig, 'graphs/specific_1_density.png', width=800, height=800)"
   ]
  },
  {
   "cell_type": "code",
   "execution_count": null,
   "metadata": {},
   "outputs": [],
   "source": [
    "# Create categorical dataset which shows each zipcode's defined type\n",
    "type_by_zipcode = df[['zipcode', 'zip_type']].drop_duplicates().reset_index(drop = True)\n",
    "# type_by_zipcode\n"
   ]
  },
  {
   "cell_type": "code",
   "execution_count": null,
   "metadata": {},
   "outputs": [],
   "source": [
    "# Map: type of each zipcode in dataset\n",
    "fig = px.choropleth_mapbox(type_by_zipcode, geojson=zipcodes, color=\"zip_type\",\n",
    "                           locations=\"zipcode\", featureidkey=\"properties.ZCTA5CE10\",\n",
    "                           zoom=8.3, center = {\"lat\": 47.433422, \"lon\": -122.090672}, \n",
    "                           color_discrete_sequence=[colors.as_hex()[1], \"papayawhip\", colors.as_hex()[5]],\n",
    "                           mapbox_style=\"carto-positron\", \n",
    "                           opacity = 0.5, \n",
    "                           labels={'zip_type':'type of zipcode'})\n",
    "\n",
    "fig.update_layout(margin={\"r\":0,\"t\":0,\"l\":0,\"b\":0})\n",
    "fig.show()\n",
    "\n",
    "pio.write_image(fig, 'graphs/specific_1_zipcode_type.png', width=800, height=800)"
   ]
  },
  {
   "cell_type": "markdown",
   "metadata": {},
   "source": [
    "### Specific insight 2: Analysis of prices and qualities of country houses"
   ]
  },
  {
   "cell_type": "code",
   "execution_count": null,
   "metadata": {},
   "outputs": [],
   "source": [
    "# Summary of houses in the country\n",
    "\n",
    "print(f\"There are {df.loc[(df.zip_country == 1)].sale_id.count()} being sold in the country, {round(df.loc[(df.zip_country == 1)].sale_id.count()/len(df)*100, 2)}%\")\n",
    "\n",
    "country = df.loc[(df.zip_country == 1) & (df.land_to_house >= 5)]\n",
    "print(f\"Of the houses in the country, {len(country)} ({round(len(country)/df.loc[(df.zip_country == 1)].sale_id.count(), 2)*100}%) have the minimum land-to-house ratio.\")\n",
    "\n",
    "country['renovated'] = country.yr_renovated.apply(lambda x: \"yes\" if x != 0 else \"no\")\n",
    "print(f\"Of those houses, {len(country.loc[country.renovated == 'no'])} are not renovated.\")\n",
    "\n",
    "country = country.loc[country.renovated == 'no']"
   ]
  },
  {
   "cell_type": "code",
   "execution_count": null,
   "metadata": {},
   "outputs": [],
   "source": [
    "# Genearte aggreaged charts for price by month and price and quality by zipcode\n",
    "\n",
    "country_price_month = country.groupby(['year','month', 'year_month']).price_sqft.mean().reset_index() \n",
    "# country_price_month.head()\n",
    "\n",
    "country_price_zipcode = country.groupby(['zipcode']).agg({'price_sqft': 'mean', 'grade': 'mean'}).reset_index().sort_values(by = ['price_sqft'], ascending = 0)\n",
    "# country_price_zipcode.head()\n"
   ]
  },
  {
   "cell_type": "code",
   "execution_count": null,
   "metadata": {},
   "outputs": [],
   "source": [
    "# Plot statistics of country houses (price per sqft by zipcode, price)\n",
    "fig, axes = plt.subplots(nrows=1, ncols=2, figsize=(8, 4))\n",
    "\n",
    "axes = axes.flatten()\n",
    "\n",
    "#----------------------\n",
    "# plot 1: price and grade by zipcode\n",
    "axes[0].bar(country_price_zipcode.zipcode, country_price_zipcode['price_sqft'])\n",
    "\n",
    "# label things\n",
    "axes[0].set_title('Mean sqft price per zipcode')\n",
    "axes[0].set_ylabel('Price (per sqft)')\n",
    "axes[0].set_xlabel('')\n",
    "\n",
    "# make axes nice\n",
    "axes[0].set_xticklabels(axes[0].get_xticklabels(), rotation=90)\n",
    "axes[0].set_ylim(150,300)\n",
    "plt.xticks(rotation = 90)\n",
    "\n",
    "# secondary y-axis for the first subplot\n",
    "axes2_0 = axes[0].twinx()\n",
    "axes2_0.scatter(country_price_zipcode.zipcode, country_price_zipcode.grade, color=colors[5], label='')\n",
    "axes2_0.set_ylabel('Grade (0-13)')\n",
    "axes2_0.tick_params(axis='y')\n",
    "\n",
    "#-----------------------\n",
    "# plot 2: line chart of prices over time \n",
    "axes[1].plot(country_price_month.year_month, country_price_month.price_sqft, marker = 'o')\n",
    "\n",
    "# label things\n",
    "axes[1].set_title('Mean sqft price over time')\n",
    "axes[1].set_xlabel('')\n",
    "axes[1].set_ylabel('Price (in $)')\n",
    "\n",
    "# make axes nice\n",
    "axes[1].set_ylim(200,250)\n",
    "plt.xticks(rotation = 90)\n",
    "\n",
    "#-----------------------\n",
    "# Adjust layout\n",
    "plt.tight_layout()\n",
    "\n",
    "plt.savefig('graphs/specific_2_country_analysis.png')\n",
    "# Display the plot\n",
    "plt.show()"
   ]
  },
  {
   "cell_type": "markdown",
   "metadata": {},
   "source": [
    "### Specific insight 3: Recommendations for city house\n",
    "    "
   ]
  },
  {
   "cell_type": "code",
   "execution_count": null,
   "metadata": {},
   "outputs": [],
   "source": [
    "# get an overview of city data\n",
    "city = df.loc[(df.city == 'Seattle')]\n",
    "city.shape\n",
    "\n",
    "print(f'There were {city.shape[0]} houses sold in Seattle city ({round(city.shape[0]/len(df)*100, 2)}% of all houses).')\n",
    "print(f'This includes {city.zipcode.nunique()} zipcodes in the King County.')\n",
    "\n",
    "city = city.loc[(city.bedrooms <= 5)]\n",
    "\n",
    "print(f'Out of those {city.shape[0]} were houses with 5 or fewer bedrooms.')\n"
   ]
  },
  {
   "cell_type": "code",
   "execution_count": null,
   "metadata": {},
   "outputs": [],
   "source": [
    "# prepare dataset for map - monthly sales by zipcode\n",
    "\n",
    "by_zipcode = city.groupby(['zipcode', 'year_month']).agg({'sale_id': 'count'}).reset_index().rename(columns= {'sale_id': 'sales_month'})\n",
    "by_zipcode = by_zipcode.groupby('zipcode').agg({'sales_month': 'mean'}).reset_index()\n",
    "by_zipcode.head()"
   ]
  },
  {
   "cell_type": "code",
   "execution_count": null,
   "metadata": {},
   "outputs": [],
   "source": [
    "# map: city zipcodes by velocity\n",
    "\n",
    "fig = px.choropleth_mapbox(by_zipcode, geojson=zipcodes, locations='zipcode', color='sales_month',\n",
    "                           color_continuous_scale=[[0, colors.as_hex()[1]], [0.5, 'ivory'], [1, colors.as_hex()[-1]]],\n",
    "                           range_color=(by_zipcode.sales_month.min(),by_zipcode.sales_month.max()),\n",
    "                           mapbox_style=\"carto-positron\",\n",
    "                           zoom=9.5, center = {\"lat\": 47.5528, \"lon\": -122.335212}, \n",
    "                           featureidkey=\"properties.ZCTA5CE10\",\n",
    "                           opacity=0.5,\n",
    "                           labels={'sales_month':'sales per month'}\n",
    "                          )\n",
    "fig.update_layout(margin={\"r\":0,\"t\":0,\"l\":0,\"b\":0})\n",
    "fig.update_layout(height=800, width=800)\n",
    "fig.show()\n",
    "\n",
    "pio.write_image(fig, 'graphs/specific_3_sales_velocity.png', width=800, height=800)"
   ]
  },
  {
   "cell_type": "code",
   "execution_count": null,
   "metadata": {},
   "outputs": [],
   "source": [
    "# prepare data for city analysis\n",
    "\n",
    "# count of sales by number of bedrooms\n",
    "by_bedrooms = city.groupby('bedrooms').agg({'sale_id': 'count'}).reset_index().rename(columns= {'sale_id': 'count_sales'})\n",
    "by_bedrooms.head()\n",
    "\n",
    "# data of high velocity zips to be shoved into a boxplot\n",
    "velocity_zips = list(by_zipcode.loc[by_zipcode.sales_month > 30].zipcode)\n",
    "\n",
    "high_velocity = city[(city.zipcode.isin(velocity_zips)) & (city.bedrooms.isin(range(1, 5)))]\n",
    "high_velocity['price_mil'] = high_velocity.price/ 1000000"
   ]
  },
  {
   "cell_type": "code",
   "execution_count": null,
   "metadata": {},
   "outputs": [],
   "source": [
    "# plot city analysis\n",
    "\n",
    "fig, axes = plt.subplots(nrows=1, ncols=2, figsize=(8, 4))\n",
    "\n",
    "# plot 1: count of sales by number of bedrooms\n",
    "axes[0].bar(by_bedrooms['bedrooms'], by_bedrooms['count_sales'], edgecolor='black', linewidth = 0.5)\n",
    "axes[0].set_xlabel('Number of bedrooms')\n",
    "axes[0].set_ylabel('Count of sales')\n",
    "axes[0].set_title('Sales by house size\\n')\n",
    "\n",
    "# plot 2: price distributions in high velocity neighborhoods by bedroom count\n",
    "sns.boxplot(x = 'bedrooms', y = 'price_mil', data = high_velocity, ax = axes[1], \n",
    "            boxprops=dict(linewidth=0.8), \n",
    "            whiskerprops=dict(linewidth=0.8), \n",
    "            capprops=dict(linewidth=0.8), \n",
    "            flierprops=dict(linewidth=0.8, markersize = 1), \n",
    "            medianprops=dict(linewidth=0.8))\n",
    "plt.xlabel('Number of bedrooms')\n",
    "plt.ylabel('Price (in $mil)')\n",
    "plt.title('Price distribution in velocity zipcodes\\n (by number of bedrooms)', fontsize = 12)\n",
    "\n",
    "# plt.savefig('graphs/specific_3_price_bedrooms.png')\n",
    "plt.savefig('graphs/specific_3_city_analysis.png')"
   ]
  }
 ],
 "metadata": {
  "kernelspec": {
   "display_name": ".venv",
   "language": "python",
   "name": "python3"
  },
  "language_info": {
   "codemirror_mode": {
    "name": "ipython",
    "version": 3
   },
   "file_extension": ".py",
   "mimetype": "text/x-python",
   "name": "python",
   "nbconvert_exporter": "python",
   "pygments_lexer": "ipython3",
   "version": "3.11.3"
  },
  "orig_nbformat": 4
 },
 "nbformat": 4,
 "nbformat_minor": 2
}
