{
 "cells": [
  {
   "cell_type": "markdown",
   "metadata": {},
   "source": [
    "# EDA\n",
    "\n",
    "![](data:image/jpeg;base64,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)"
   ]
  },
  {
   "cell_type": "markdown",
   "metadata": {},
   "source": [
    "## Prepare notebook"
   ]
  },
  {
   "cell_type": "code",
   "execution_count": null,
   "metadata": {},
   "outputs": [],
   "source": [
    "import warnings\n",
    "\n",
    "warnings.filterwarnings(\"ignore\")\n",
    "\n",
    "import pandas as pd\n",
    "import numpy as np\n",
    "import matplotlib.pyplot as plt\n",
    "import seaborn as sns\n",
    "import missingno as msno\n",
    "from urllib.request import urlopen\n",
    "import json\n",
    "import plotly.io as pio\n",
    "import kaleido\n",
    "\n",
    "\n",
    "from matplotlib.ticker import PercentFormatter\n",
    "plt.rcParams.update({ \"figure.figsize\" : (8, 5),\"axes.facecolor\" : \"white\", \"axes.edgecolor\":  \"black\"})\n",
    "plt.rcParams[\"figure.facecolor\"]= \"w\"\n",
    "pd.plotting.register_matplotlib_converters()\n",
    "pd.set_option('display.float_format', lambda x: '%.3f' % x)"
   ]
  },
  {
   "cell_type": "markdown",
   "metadata": {},
   "source": [
    "## Client\n",
    "- name: William Rodriguez\t\n",
    "- type: Buyer\t\n",
    "- household: 2 people, \n",
    "- needs: \n",
    "    - country house (best timing & non-renovated)\n",
    "    - city house (fast & central location)\n",
    "\n",
    "\n",
    "## Task\n",
    "1. Through EDA/statistical analysis above please come up with **AT LEAST 3 insights regarding the overall data**. One should be geographical.\n",
    "1. In addition also come up with **AT LEAST 3 recommendations** for your client.\n",
    "\n",
    "## Overall questions and insights\n",
    "- average sizes, numbers of rooms etc\n",
    "- average price, cyclicality of prices\n",
    "- correlation: size and no rooms\n",
    "- (geo)\n",
    "\n",
    "## Client specific questions and insights\n",
    "- country house: \n",
    "    - cyclicality of prices for the specific subgroup\n",
    "    - non-renovated: price vs renovated for same number of rooms\n",
    "    - price by lot size vs price by house size vs price by room number\n",
    "\n",
    "- city house: location analysis based on zipcode\n",
    "    - correlation size vs price \n",
    "    - correlation size vs room size "
   ]
  },
  {
   "cell_type": "markdown",
   "metadata": {},
   "source": [
    "## Data load"
   ]
  },
  {
   "cell_type": "code",
   "execution_count": null,
   "metadata": {},
   "outputs": [],
   "source": [
    "# import data\n",
    "df = pd.read_csv('data/eda.csv')\n",
    "df.head()\n",
    "# df.columns"
   ]
  },
  {
   "cell_type": "markdown",
   "metadata": {},
   "source": [
    "## Initial data inspection\n",
    "- **shape**: 21,597 observations of 22 variables\n",
    "- **variable names**: all variable names are Pythonic\n",
    "- **variable types**: all variable types are appropriate apart from date: it is an `object`, when it should be `datetype64`\n",
    "- **variable encoding**: fix year built by dividing by 10\n",
    "\n",
    "We have invormation about: \n",
    "- price,\n",
    "- location and size of plot,\n",
    "- number of floors,\n",
    "- number, size and type of rooms, \n",
    "- dates of construction, last renovation and condition. \n",
    "\n",
    "\n",
    "(Interesting find: for `int` type does not support missing values, so Python default chooses type `float`. If I try turning it into `int` I get the error `IntCastingNaNError`, which in Pythonic\n"
   ]
  },
  {
   "cell_type": "code",
   "execution_count": null,
   "metadata": {},
   "outputs": [],
   "source": [
    "## DATA SHAPE & VARNAMES\n",
    "\n",
    "print(df.shape)\n",
    "print(\"\\n\")\n",
    "print(df.columns)\n",
    "\n",
    "\n",
    "# notes: \n",
    "    # seems that variable names are okay (all \"Pythonic\")"
   ]
  },
  {
   "cell_type": "code",
   "execution_count": null,
   "metadata": {},
   "outputs": [],
   "source": [
    "## INSPECTION OF VARIABLE VALUES\n",
    "df.describe()\n",
    "\n",
    "# even categorical variables are in numeric form, yay! \n",
    "# Year renovated is a mess though. Fix in next cell."
   ]
  },
  {
   "cell_type": "code",
   "execution_count": null,
   "metadata": {},
   "outputs": [],
   "source": [
    "## FIX YEAR RENOVATED\n",
    "# year renovated has an extra 0 at the end. Divide by 10 to fix.\n",
    "df['yr_renovated'] = df.yr_renovated.apply(lambda x: x/10)\n",
    "df.loc[df.yr_renovated != 0].yr_renovated.describe()\n",
    "\n",
    "## FIX ZIPCODE\n",
    "df['zipcode'] = df.zipcode.astype('str')"
   ]
  },
  {
   "cell_type": "code",
   "execution_count": null,
   "metadata": {},
   "outputs": [],
   "source": [
    "## DATA TYPES\n",
    "\n",
    "print(df.dtypes)\n",
    "\n",
    "df['date'] = pd.to_datetime(df['date'], format='%Y-%m-%d')\n",
    "df.head()\n",
    "\n",
    "# problematic types\n",
    "    # date is an object --> turn into date using datetime()\n",
    "    # waterfront, view, yr_renovated --> turn into int\n",
    "\n",
    "# df = df.astype({'yr_renovated': int})\n",
    "# !!interesting find!!: int cannot be NA --> python automatically chose float for int value variables\n",
    "\n",
    "type(df.waterfront.unique()[1])\n",
    "df.waterfront.unique()"
   ]
  },
  {
   "cell_type": "markdown",
   "metadata": {},
   "source": [
    "## Missing values\n",
    "- sales information has no missing values, only some house characteristics are missing --> perform analysis of missing values on a set of unique houses only (21,420 houses)\n",
    "\n",
    "\n",
    "- missing values for 4 variables: \n",
    "    - `waterfront`: 2360 missings (11.02%)\n",
    "    - `view`: 63 missings (0.29%)\n",
    "    - `sqft_basement`: 451 missings (2.11%)\n",
    "    - `yr_renovated`: 3811 missings (17.79%)\n",
    "\n",
    "\n",
    "\n",
    "- the missing values are not correlated: there is no systematic relationship among missing values\n",
    "\n",
    "- I deal with missing values by imputing 0s. This means: \n",
    "    - `waterfront`: assume house is not on waterfront\n",
    "    - `view`: assume house is without a view\n",
    "    - `sqft_basement`: assume house has no basement\n",
    "    - `yr_renovated`: assume house was not renovated"
   ]
  },
  {
   "cell_type": "code",
   "execution_count": null,
   "metadata": {},
   "outputs": [],
   "source": [
    "## INSPECT MISSING  VALUES\n",
    "df.isna().sum() #\n",
    "houses = df.drop(['sale_id', 'date', 'price'], axis = 1).drop_duplicates()\n",
    "# houses.isna().sum()\n",
    "\n",
    "# print shares of missing values\n",
    "for key, value in dict(houses.isna().sum()).items(): \n",
    "    if value != 0:\n",
    "        print(f\"- `{key}`: {value} missings ({round(value/len(houses)*100, 2)}%)\")\n",
    "    # houses.waterfront.isna().sum()/len(houses)*100"
   ]
  },
  {
   "cell_type": "code",
   "execution_count": null,
   "metadata": {},
   "outputs": [],
   "source": [
    "# msno.heatmap(houses)\n",
    "# very little correlation among missing variables: no systematic issues"
   ]
  },
  {
   "cell_type": "code",
   "execution_count": null,
   "metadata": {},
   "outputs": [],
   "source": [
    "## Fill missing values with 0s\n",
    "df = df.fillna(0)\n",
    "\n",
    "# df.isna().sum() --> no missing values anymore, yay!"
   ]
  },
  {
   "cell_type": "markdown",
   "metadata": {},
   "source": [
    "## Summary statistics\n",
    "- histograms for some of the numerical variables\n",
    "- ANYTHING INTERESTING?!?!\n",
    "\n"
   ]
  },
  {
   "cell_type": "code",
   "execution_count": null,
   "metadata": {},
   "outputs": [],
   "source": [
    "df.describe()"
   ]
  },
  {
   "cell_type": "code",
   "execution_count": null,
   "metadata": {},
   "outputs": [],
   "source": [
    "# df.grade.value_counts()"
   ]
  },
  {
   "cell_type": "markdown",
   "metadata": {},
   "source": [
    "## General insight 1: \n",
    "- There is a great variety of properties being sold and bought\n",
    "- Majority of the houses: \n",
    "    - cost below 500k\n",
    "    - are below 2000sqft (185sqm)\n",
    "    - have a lot size of < 7500 sqft (700sqm)\n",
    "    - have 3 or fewer bedrooms"
   ]
  },
  {
   "cell_type": "code",
   "execution_count": null,
   "metadata": {},
   "outputs": [],
   "source": [
    "cols = ['price', 'sqft_living', 'sqft_lot', 'yr_built', 'bedrooms', 'bathrooms']\n",
    "\n",
    "\n",
    "fig, axes = plt.subplots(nrows=2, ncols=3, figsize=(12, 8))\n",
    "\n",
    "# plt.hist(df.price, edgecolor='black', normalize = 1)  # Adjust the number of bins as needed\n",
    "\n",
    "axes = axes.flatten()\n",
    "\n",
    "# Plot normalized histograms for each variable\n",
    "for i, var in list(zip(range(8), cols)) :\n",
    "    axes[i].hist(df[var], bins=30, edgecolor='black', alpha=0.7)\n",
    "    axes[i].set_title(f'{var}')\n",
    "    axes[i].set_xlabel('')\n",
    "    axes[i].set_ylabel('Probability Density')\n",
    "\n",
    "    # add mean and median\n",
    "    mean_value = np.mean(df[var])\n",
    "    median_value = np.median(df[var])\n",
    "    axes[i].axvline(mean_value, color='red', linestyle='dashed', linewidth=2, label=f'Avg: {mean_value:.2f}')\n",
    "    axes[i].axvline(median_value, color='green', linestyle='dashed', linewidth=2, label=f'Med: {median_value:.2f}')\n",
    "\n",
    "    axes[i].legend()\n",
    "\n",
    "# Adjust layout\n",
    "plt.tight_layout()\n",
    "\n",
    "# Display the plot\n",
    "plt.show()"
   ]
  },
  {
   "cell_type": "markdown",
   "metadata": {},
   "source": [
    "## General insight 2\n",
    "- "
   ]
  },
  {
   "cell_type": "code",
   "execution_count": null,
   "metadata": {},
   "outputs": [],
   "source": [
    "# price per sqft over time\n",
    "\n",
    "df['month'] = df.date.dt.month\n",
    "df['year'] = df.date.dt.year\n",
    "df['year_month'] = df.date.dt.strftime('%Y-%m')\n",
    "\n",
    "df['price_sqft'] = df['price']/df['sqft_living']\n",
    "\n",
    "price_sqft_month = df.groupby(['year','month', 'year_month']).price_sqft.mean().reset_index() \n"
   ]
  },
  {
   "cell_type": "code",
   "execution_count": null,
   "metadata": {},
   "outputs": [],
   "source": [
    "fig, axes = plt.subplots(nrows=1, ncols=2, figsize=(8, 4))\n",
    "\n",
    "# plt.hist(df.price, edgecolor='black', normalize = 1)  # Adjust the number of bins as needed\n",
    "\n",
    "axes = axes.flatten()\n",
    "\n",
    "# Plot normalized histograms for each variable\n",
    "\n",
    "axes[0].hist(df['price_sqft'], bins=30, edgecolor='black', alpha=0.7)\n",
    "axes[0].set_title(f'Price per square foot')\n",
    "axes[0].set_xlabel('Price (per sqft)')\n",
    "axes[0].set_ylabel('Probability Density')\n",
    "\n",
    "mean_value = np.mean(df['price_sqft'])\n",
    "median_value = np.median(df['price_sqft'])\n",
    "axes[0].axvline(mean_value, color='red', linestyle='dashed', linewidth=2, label=f'Avg: {mean_value:.2f}$')\n",
    "axes[0].axvline(median_value, color='green', linestyle='dashed', linewidth=2, label=f'Med: {median_value:.2f}$')\n",
    "axes[0].legend()\n",
    "\n",
    "plt.plot(price_sqft_month.year_month, price_sqft_month.price_sqft, marker = 'o')\n",
    "axes[1].set_title('Sqft price over time')\n",
    "axes[1].set_xlabel('')\n",
    "axes[1].set_ylabel('Price per sqft (in $)')\n",
    "plt.xticks(rotation = 90)\n",
    "\n",
    "# Adjust layout\n",
    "plt.tight_layout()\n",
    "\n",
    "# Display the plot\n",
    "plt.show()\n"
   ]
  },
  {
   "cell_type": "markdown",
   "metadata": {},
   "source": [
    "## Specific insight 2: correlation between grade and price"
   ]
  },
  {
   "cell_type": "code",
   "execution_count": null,
   "metadata": {},
   "outputs": [],
   "source": [
    "grade_price = df[['grade', 'price_sqft', 'zipcode']].groupby('zipcode').agg('mean').reset_index()\n",
    "grade_price.head()\n",
    "\n",
    "plt.scatter(grade_price.grade, grade_price.price_sqft)"
   ]
  },
  {
   "cell_type": "code",
   "execution_count": null,
   "metadata": {},
   "outputs": [],
   "source": [
    "## Geographical insight goes here\n",
    "\n",
    "with urlopen('https://raw.githubusercontent.com/OpenDataDE/State-zip-code-GeoJSON/master/wa_washington_zip_codes_geo.min.json') as response:\n",
    "    zipcodes = json.load(response)\n",
    "\n",
    "price_by_zipcode = df.groupby('zipcode').agg({'price': 'mean', 'price_sqft': 'mean'}).reset_index()\n",
    "# price_by_zipcode['zipcode'] = df.zipcode.astype('str')\n",
    "price_by_zipcode.head()\n",
    "\n",
    "import plotly.express as px\n",
    "\n",
    "fig = px.choropleth_mapbox(price_by_zipcode, geojson=zipcodes, locations='zipcode', color='price_sqft',\n",
    "                           color_continuous_scale=\"Viridis\",\n",
    "                           range_color=(price_by_zipcode.price_sqft.min(), price_by_zipcode.price_sqft.max()),\n",
    "                           mapbox_style=\"carto-positron\",\n",
    "                           zoom=8, center = {\"lat\": 47.553306, \"lon\": -122.237702}, \n",
    "                           featureidkey=\"properties.ZCTA5CE10\",\n",
    "                           opacity=0.5,\n",
    "                           labels={'price':'average house price'}\n",
    "                          )\n",
    "fig.update_layout(margin={\"r\":0,\"t\":0,\"l\":0,\"b\":0})\n",
    "fig.show()\n",
    "\n",
    "\n",
    "# pio.write_image(fig, 'graphs/i3_map_price_sqft.jpeg')"
   ]
  },
  {
   "cell_type": "code",
   "execution_count": null,
   "metadata": {},
   "outputs": [],
   "source": [
    "price_by_zipcode.describe()\n",
    "# by_zipcode.shape\n",
    "df.columns"
   ]
  },
  {
   "cell_type": "markdown",
   "metadata": {},
   "source": [
    "## Specific insight 1\n",
    "-- country house: \n",
    "    - what is a country house? \n",
    "    - share of non-renovated houses on the market (to see velocity)"
   ]
  },
  {
   "cell_type": "code",
   "execution_count": null,
   "metadata": {},
   "outputs": [],
   "source": [
    "df['land_to_house'] = df.sqft_lot / df.sqft_living\n",
    "df.land_to_house.describe()\n",
    "\n",
    "size_by_zipcode = df.groupby('zipcode').agg({'land_to_house': 'mean'}).reset_index()\n",
    "# size_by_zipcode['zipcode'] = df.zipcode.astype('str')\n",
    "size_by_zipcode.head()\n",
    "\n",
    "fig = px.choropleth_mapbox(size_by_zipcode, geojson=zipcodes, locations='zipcode', color='land_to_house',\n",
    "                           color_continuous_scale=\"Viridis\",\n",
    "                           range_color=(np.percentile(size_by_zipcode.land_to_house, 20), np.percentile(size_by_zipcode.land_to_house, 80)),\n",
    "                           mapbox_style=\"carto-positron\",\n",
    "                           zoom=8, center = {\"lat\": 47.553306, \"lon\": -122.237702}, \n",
    "                           featureidkey=\"properties.ZCTA5CE10\",\n",
    "                           opacity=0.5\n",
    "                        #    labels={'price':'average house price'}\n",
    "                          )\n",
    "fig.update_layout(margin={\"r\":0,\"t\":0,\"l\":0,\"b\":0})\n",
    "fig.show()\n",
    "\n",
    "country = df.loc[df.land_to_house >= 5]\n",
    "country.shape\n"
   ]
  },
  {
   "cell_type": "code",
   "execution_count": null,
   "metadata": {},
   "outputs": [],
   "source": [
    "king_zips = pd.read_csv('data/uszips.csv', dtype= str)\n",
    "king_zips.head()\n",
    "\n",
    "king_zips = pd.DataFrame(king_zips).loc[king_zips.county_fips == \"53033\", ['zip', 'density', 'city']]\n",
    "king_zips['density'] = king_zips.density.astype('float')\n",
    "king_zips = king_zips.rename(columns = {'zip': 'zipcode'})\n",
    "king_zips.head()\n",
    "# king_zips.describe()\n",
    "# king_zips.shape\n",
    "\n"
   ]
  },
  {
   "cell_type": "code",
   "execution_count": null,
   "metadata": {},
   "outputs": [],
   "source": [
    "fig = px.choropleth_mapbox(king_zips, geojson=zipcodes, locations='zipcode', color='density',\n",
    "                           color_continuous_scale=\"Viridis\",\n",
    "                           range_color=(king_zips.density.min(),5000),\n",
    "                           mapbox_style=\"carto-positron\",\n",
    "                           zoom=8, center = {\"lat\": 47.553306, \"lon\": -122.237702}, \n",
    "                           featureidkey=\"properties.ZCTA5CE10\",\n",
    "                           opacity=0.5\n",
    "                        #    labels={'price':'average house price'}\n",
    "                          )\n",
    "fig.update_layout(margin={\"r\":0,\"t\":0,\"l\":0,\"b\":0})\n",
    "fig.show()\n",
    "# source: https://simplemaps.com/data/us-zips"
   ]
  },
  {
   "cell_type": "code",
   "execution_count": null,
   "metadata": {},
   "outputs": [],
   "source": [
    "df = pd.merge(df, king_zips, how = 'left', on = 'zipcode')\n",
    "df['country'] = df.density.apply(lambda x: 1 if x < 500 else 0)\n",
    "df.loc[df.country == 1].head()"
   ]
  },
  {
   "cell_type": "code",
   "execution_count": null,
   "metadata": {},
   "outputs": [],
   "source": [
    "country_by_zipcode = df.groupby('zipcode').agg({'country': 'mean'}).reset_index()\n",
    "country_by_zipcode['country_cat'] = country_by_zipcode.country.apply(lambda x: \"yes\" if x == 1 else \"no\")\n",
    "country_by_zipcode.head()\n",
    "\n",
    "\n",
    "fig = px.choropleth_mapbox(country_by_zipcode, geojson=zipcodes, color=\"country_cat\",\n",
    "                           locations=\"zipcode\", featureidkey=\"properties.ZCTA5CE10\",\n",
    "                           zoom=8, center = {\"lat\": 47.553306, \"lon\": -122.237702}, \n",
    "                           color_discrete_sequence=[\"LightCoral\", \"LightSkyBlue\"],\n",
    "                           opacity = 0.7, \n",
    "                           mapbox_style=\"carto-positron\")\n",
    "fig.update_layout(margin={\"r\":0,\"t\":0,\"l\":0,\"b\":0})\n",
    "fig.show()"
   ]
  },
  {
   "cell_type": "code",
   "execution_count": null,
   "metadata": {},
   "outputs": [],
   "source": [
    "print(f\"There are {df.loc[(df.country == 1)].sale_id.count()} being sold in the country, {round(df.loc[(df.country == 1)].sale_id.count()/len(df)*100, 2)}%\")\n",
    "\n",
    "\n",
    "country = df.loc[(df.country == 1) & (df.land_to_house >= 5)]\n",
    "print(f\"Of the houses in the country, {len(country)} ({round(len(country)/df.loc[(df.country == 1)].sale_id.count(), 2)*100}%) have the minimum land-to-house ratio.\")\n",
    "\n",
    "country['renovated'] = country.yr_renovated.apply(lambda x: \"yes\" if x != 0 else \"no\")\n",
    "print(f\"Of those houses, {len(country.loc[country.renovated == 'no'])} not renovated.\")\n",
    "\n",
    "country = country.loc[country.renovated == 'no']\n",
    "\n",
    "country.grade.value_counts()\n",
    "# country.shape\n"
   ]
  },
  {
   "cell_type": "code",
   "execution_count": null,
   "metadata": {},
   "outputs": [],
   "source": [
    "# px.density_mapbox(df, lat = '', long = 'long', radius, mapbox_style = \"open-street-map\")\n",
    "country_price_month = country.groupby(['year','month', 'year_month']).price_sqft.mean().reset_index() \n",
    "country_price_month.head()\n",
    "\n",
    "country_price_zipcode = country.groupby(['zipcode']).agg({'price_sqft': 'mean', 'grade': 'mean'}).reset_index().sort_values(by = ['price_sqft'], ascending = 0)\n",
    "country_price_zipcode.head()\n",
    "\n",
    "# country_grade_zipcode = \n"
   ]
  },
  {
   "cell_type": "code",
   "execution_count": null,
   "metadata": {},
   "outputs": [],
   "source": [
    "fig, axes = plt.subplots(nrows=1, ncols=2, figsize=(8, 4))\n",
    "\n",
    "# plt.hist(df.price, edgecolor='black', normalize = 1)  # Adjust the number of bins as needed\n",
    "\n",
    "axes = axes.flatten()\n",
    "\n",
    "# Plot normalized histograms for each variable\n",
    "\n",
    "axes[0].bar(country_price_zipcode.zipcode, country_price_zipcode['price_sqft'])\n",
    "axes[0].set_title('Mean price per zipcode')\n",
    "axes[0].set_ylabel('Price (per sqft)')\n",
    "axes[0].set_xlabel('')\n",
    "axes[0].set_xticklabels(axes[0].get_xticklabels(), rotation=90)\n",
    "axes[0].set_ylim(150,300)\n",
    "plt.xticks(rotation = 90)\n",
    "\n",
    "# Create a secondary y-axis for the first subplot\n",
    "axes2_0 = axes[0].twinx()\n",
    "axes2_0.scatter(country_price_zipcode.zipcode, country_price_zipcode.grade, color='red', label='')\n",
    "axes2_0.set_ylabel('Grade (0-13)')\n",
    "axes2_0.tick_params(axis='y')\n",
    "\n",
    "axes[1].plot(country_price_month.year_month, country_price_month.price_sqft, marker = 'o')\n",
    "axes[1].set_title('Sqft price over time')\n",
    "axes[1].set_xlabel('')\n",
    "axes[1].set_ylabel('Price per sqft (in $)')\n",
    "axes[1].set_ylim(200,250)\n",
    "plt.xticks(rotation = 90)\n",
    "\n",
    "\n",
    "\n",
    "# Adjust layout\n",
    "plt.tight_layout()\n",
    "\n",
    "# Display the plot\n",
    "plt.show()\n",
    "plt.savefig('graphs/s2_price_analysis_country.png')"
   ]
  },
  {
   "cell_type": "markdown",
   "metadata": {},
   "source": [
    "## Specific insight 2\n",
    "- what is important? \n",
    "    - size\n",
    "    "
   ]
  },
  {
   "cell_type": "code",
   "execution_count": null,
   "metadata": {},
   "outputs": [],
   "source": [
    "city = df.loc[(df.city == 'Seattle')]\n",
    "city.shape\n",
    "\n",
    "print(f'There were {city.shape[0]} houses sold in Seattle city ({round(city.shape[0]/len(df)*100, 2)}% of all houses).')\n",
    "print(f'This includes {city.zipcode.nunique()} zipcodes in the King County.')\n",
    "\n",
    "city = city.loc[(city.bedrooms <= 5)]\n",
    "\n",
    "print(f'Out of those {city.shape[0]} were houses with 5 or fewer bedrooms.')\n",
    "# plt.show()\n",
    "# city.head()"
   ]
  },
  {
   "cell_type": "code",
   "execution_count": null,
   "metadata": {},
   "outputs": [],
   "source": [
    "by_bedrooms = city.groupby('bedrooms').agg({'sale_id': 'count'}).reset_index().rename(columns= {'sale_id': 'count_sales'})\n",
    "by_bedrooms.head()\n",
    "\n",
    "plt.bar(by_bedrooms['bedrooms'], by_bedrooms['count_sales'])\n",
    "plt.xlabel('Number of bedrooms')\n",
    "plt.ylabel('Count of sales')\n",
    "plt.title('')"
   ]
  },
  {
   "cell_type": "code",
   "execution_count": null,
   "metadata": {},
   "outputs": [],
   "source": [
    "by_zipcode = city.groupby(['zipcode', 'year_month']).agg({'sale_id': 'count'}).reset_index().rename(columns= {'sale_id': 'sales_month'})\n",
    "by_zipcode = by_zipcode.groupby('zipcode').agg({'sales_month': 'mean'}).reset_index()\n",
    "by_zipcode.head()"
   ]
  },
  {
   "cell_type": "code",
   "execution_count": null,
   "metadata": {},
   "outputs": [],
   "source": [
    "fig = px.choropleth_mapbox(by_zipcode, geojson=zipcodes, locations='zipcode', color='sales_month',\n",
    "                           color_continuous_scale=\"Viridis\",\n",
    "                           range_color=(by_zipcode.sales_month.min(),by_zipcode.sales_month.max()),\n",
    "                           mapbox_style=\"carto-positron\",\n",
    "                           zoom=9.5, center = {\"lat\": 47.5528, \"lon\": -122.335212}, \n",
    "                           featureidkey=\"properties.ZCTA5CE10\",\n",
    "                           opacity=0.5,\n",
    "                           labels={'sales_month':'sales per month'}\n",
    "                          )\n",
    "fig.update_layout(margin={\"r\":0,\"t\":0,\"l\":0,\"b\":0})\n",
    "fig.update_layout(height=800, width=800)\n",
    "fig.show()"
   ]
  },
  {
   "cell_type": "code",
   "execution_count": null,
   "metadata": {},
   "outputs": [],
   "source": [
    "velocity_zips = list(by_zipcode.loc[by_zipcode.sales_month > 30].zipcode)\n",
    "print(velocity_zips)\n",
    "\n",
    "# high_velocity = city[(city.zipcode.isin(velocity_zips)) & (city.bedrooms.isin(range(2, 5)))].groupby(['zipcode', 'bedrooms']).agg({'price': 'mean', 'price_sqft': 'mean'}).reset_index()\n",
    "\n",
    "high_velocity = city[(city.zipcode.isin(velocity_zips)) & (city.bedrooms.isin(range(2, 5)))]\n",
    "high_velocity.head()\n",
    "high_velocity.grade.value_counts()"
   ]
  },
  {
   "cell_type": "code",
   "execution_count": null,
   "metadata": {},
   "outputs": [],
   "source": [
    "sns.boxplot(x = 'bedrooms', y = 'price', data = high_velocity)"
   ]
  },
  {
   "cell_type": "code",
   "execution_count": null,
   "metadata": {},
   "outputs": [],
   "source": [
    "\n",
    "fig, axes = plt.subplots(nrows=1, ncols=2, figsize=(8, 4))\n",
    "\n",
    "# plt.hist(df.price, edgecolor='black', normalize = 1)  # Adjust the number of bins as needed\n",
    "\n",
    "axes = axes.flatten()\n",
    "\n",
    "sns.barplot(data = high_velocity, x = 'zipcode', y = 'price', hue = 'bedrooms', ax = axes[0])\n",
    "sns.barplot(data = high_velocity, x = 'zipcode', y = 'price_sqft', hue = 'bedrooms', ax  = axes[1])\n",
    "\n",
    "plt.show()\n",
    "plt.clf()\n"
   ]
  }
 ],
 "metadata": {
  "kernelspec": {
   "display_name": ".venv",
   "language": "python",
   "name": "python3"
  },
  "language_info": {
   "codemirror_mode": {
    "name": "ipython",
    "version": 3
   },
   "file_extension": ".py",
   "mimetype": "text/x-python",
   "name": "python",
   "nbconvert_exporter": "python",
   "pygments_lexer": "ipython3",
   "version": "3.11.3"
  },
  "orig_nbformat": 4
 },
 "nbformat": 4,
 "nbformat_minor": 2
}
